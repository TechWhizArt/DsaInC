{
 "cells": [
  {
   "cell_type": "code",
   "execution_count": 5,
   "metadata": {},
   "outputs": [
    {
     "name": "stdout",
     "output_type": "stream",
     "text": [
      "Product is 7.0\n",
      "Quotient is 0.75\n"
     ]
    }
   ],
   "source": [
    "a = float(input(\"Enter first number\"))\n",
    "b = float(input(\"Enter second number\"))\n",
    "print(\"Product is \" + str(a+b) )\n",
    "print(\"Quotient is \" + str(a/b))"
   ]
  },
  {
   "cell_type": "code",
   "execution_count": 6,
   "metadata": {},
   "outputs": [
    {
     "name": "stdout",
     "output_type": "stream",
     "text": [
      "Value before swap: \n",
      "5\n",
      "6\n",
      "Value after swap:\n",
      "6\n",
      "5\n"
     ]
    }
   ],
   "source": [
    "a = 5\n",
    "b = 6\n",
    "print(\"Value before swap: \")\n",
    "print(a)\n",
    "print(b)\n",
    "a = a+b\n",
    "b = a-b\n",
    "a = a-b\n",
    "\n",
    "print(\"Value after swap:\")\n",
    "print(a)\n",
    "print(b)"
   ]
  },
  {
   "cell_type": "code",
   "execution_count": 7,
   "metadata": {},
   "outputs": [
    {
     "name": "stdout",
     "output_type": "stream",
     "text": [
      "I hate  apples.\n",
      "I hate  bananas.\n",
      "I hate  cherrys.\n"
     ]
    }
   ],
   "source": [
    "fruits = [\"apple\", \"banana\", \"cherry\"]\n",
    "for fruit in fruits:\n",
    "    print(f\"I hate  {fruit}s.\")"
   ]
  },
  {
   "cell_type": "code",
   "execution_count": 8,
   "metadata": {},
   "outputs": [
    {
     "name": "stdout",
     "output_type": "stream",
     "text": [
      "P\n",
      "y\n",
      "t\n",
      "h\n",
      "o\n",
      "n\n"
     ]
    }
   ],
   "source": [
    "word = \"Python\"\n",
    "for letter in word:\n",
    "    print(letter)"
   ]
  },
  {
   "cell_type": "code",
   "execution_count": 23,
   "metadata": {},
   "outputs": [
    {
     "name": "stdout",
     "output_type": "stream",
     "text": [
      "The square of 1 is 1\n",
      "The square of 2 is 4\n",
      "The square of 3 is 9\n",
      "The square of 4 is 16\n",
      "The square of 5 is 25\n"
     ]
    }
   ],
   "source": [
    "for i in range (1, 6, 1):\n",
    "    print(f\"The square of {i} is {i**2}\")"
   ]
  },
  {
   "cell_type": "code",
   "execution_count": 25,
   "metadata": {},
   "outputs": [
    {
     "name": "stdout",
     "output_type": "stream",
     "text": [
      "i am 1.\n",
      "i am 2.\n",
      "i am 3.\n",
      "i am 4.\n",
      "i am 5.\n"
     ]
    }
   ],
   "source": [
    "count=1\n",
    "while count <= 5:\n",
    "    print(f\"i am {count}.\")\n",
    "    count+=1"
   ]
  },
  {
   "cell_type": "code",
   "execution_count": 38,
   "metadata": {},
   "outputs": [
    {
     "name": "stdout",
     "output_type": "stream",
     "text": [
      "niharika\n",
      "19\n",
      "4\n",
      "True\n",
      "A\n"
     ]
    }
   ],
   "source": [
    "student = {'name': \"niharika\", 'age': 19, 'grade' : \"A\"}\n",
    "stu_name = student['name']\n",
    "print(stu_name)\n",
    "stu_age = student.get('age')\n",
    "print(stu_age)\n",
    "student['age'] = 20\n",
    "student['city'] = \"wonderland\"\n",
    "dict_length = len(student)\n",
    "print(dict_length)\n",
    "has_grade = 'grade' in student\n",
    "print(has_grade)\n",
    "remove_grade= student.pop('grade')\n",
    "print(remove_grade)"
   ]
  },
  {
   "cell_type": "markdown",
   "metadata": {},
   "source": [
    "File Handling...\n"
   ]
  },
  {
   "cell_type": "code",
   "execution_count": 9,
   "metadata": {},
   "outputs": [
    {
     "name": "stdout",
     "output_type": "stream",
     "text": [
      "a is minimum\n",
      "5\n",
      "6\n"
     ]
    }
   ],
   "source": [
    "a = 5\n",
    "b = 6\n",
    "\n",
    "min = \"a is minimum\" if a<b else \"b is minimum\"\n",
    "\n",
    "print(min)\n",
    "print(a)\n",
    "a += 1\n",
    "print(a)"
   ]
  },
  {
   "cell_type": "code",
   "execution_count": 8,
   "metadata": {},
   "outputs": [
    {
     "name": "stdout",
     "output_type": "stream",
     "text": [
      "this is a normal string\n",
      "this is a string\n",
      "da\n",
      "\n",
      "with multiple lines and 3 quotes\n",
      "th\n"
     ]
    }
   ],
   "source": [
    "str = \"this is a normal string\"\n",
    "print(str)\n",
    "str2 = '''this is a string\n",
    "da\n",
    "\n",
    "with multiple lines and 3 quotes'''\n",
    "print(str2)\n",
    "print(str[0:2])"
   ]
  },
  {
   "cell_type": "code",
   "execution_count": 1,
   "metadata": {},
   "outputs": [
    {
     "name": "stdout",
     "output_type": "stream",
     "text": [
      "[1, 'apple', 3.5, '342', 'banana']\n",
      "apple\n",
      "['apple', 3.5, '342', 'banana']\n",
      "[1, 'apple', 3.5]\n",
      "<class 'str'>\n",
      "[1, 'apple', 3.5, '342', 'banana', 1, 'apple', 3.5, '342', 'banana']\n",
      "[1, 'apple', 3.5, '342', 'banana', 1, 'apple', 3.5, '342', 'banana']\n",
      "{1, 2, 3, 4, 5}\n",
      "1\n",
      "{2, 3, 4, 5}\n"
     ]
    }
   ],
   "source": [
    "list = [1, \"apple\", 3.5, '342', \"banana\"]\n",
    "print(list)\n",
    "print(list[1])\n",
    "print(list[1:])\n",
    "print(list[:3])\n",
    "print(type(list[3]))\n",
    "print(list + list)\n",
    "print(list*2)\n",
    "set = {1, 2, 3, 4, 5}\n",
    "print(set)\n",
    "print(set.pop())\n",
    "print(set)\n",
    "set.add(6)\n",
    "\n"
   ]
  },
  {
   "cell_type": "markdown",
   "metadata": {},
   "source": [
    "Lambda Function\n"
   ]
  },
  {
   "cell_type": "code",
   "execution_count": null,
   "metadata": {},
   "outputs": [],
   "source": []
  },
  {
   "cell_type": "markdown",
   "metadata": {},
   "source": [
    "File Handling"
   ]
  },
  {
   "cell_type": "code",
   "execution_count": null,
   "metadata": {},
   "outputs": [],
   "source": []
  }
 ],
 "metadata": {
  "kernelspec": {
   "display_name": "Python 3",
   "language": "python",
   "name": "python3"
  },
  "language_info": {
   "codemirror_mode": {
    "name": "ipython",
    "version": 3
   },
   "file_extension": ".py",
   "mimetype": "text/x-python",
   "name": "python",
   "nbconvert_exporter": "python",
   "pygments_lexer": "ipython3",
   "version": "3.11.7"
  }
 },
 "nbformat": 4,
 "nbformat_minor": 2
}
